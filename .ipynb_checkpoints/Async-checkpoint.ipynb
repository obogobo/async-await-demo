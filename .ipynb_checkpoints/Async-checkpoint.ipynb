{
 "cells": [
  {
   "cell_type": "markdown",
   "metadata": {},
   "source": [
    "# Evolution of async in JS"
   ]
  },
  {
   "cell_type": "markdown",
   "metadata": {},
   "source": [
    "## **The Event Loop - What is it?**\n",
    "![Event Loop](https://lemycanh.files.wordpress.com/2015/05/eventloop.png)"
   ]
  },
  {
   "cell_type": "markdown",
   "metadata": {},
   "source": [
    "## **Raw callbacks - the node.js paradigm**\n",
    "```\n",
    "fs.readdir(source, function (err, files) {\n",
    "  if (err) {\n",
    "    console.log('Error finding files: ' + err)\n",
    "  } else {\n",
    "    files.forEach(function (filename, fileIndex) {\n",
    "      console.log(filename)\n",
    "      gm(source + filename).size(function (err, values) {\n",
    "        if (err) {\n",
    "          console.log('Error identifying file size: ' + err)\n",
    "        } else {\n",
    "          console.log(filename + ' : ' + values)\n",
    "          aspect = (values.width / values.height)\n",
    "          widths.forEach(function (width, widthIndex) {\n",
    "            height = Math.round(width / aspect)\n",
    "            console.log('resizing ' + filename + 'to ' + height + 'x' + height)\n",
    "            this.resize(width, height).write(dest + 'w' + width + '_' + filename, function(err) {\n",
    "              if (err) console.log('Error writing file: ' + err)\n",
    "            })\n",
    "          }.bind(this))\n",
    "        }\n",
    "      })\n",
    "    })\n",
    "  }\n",
    "})\n",
    "```\n",
    "**[1]  http://callbackhell.com/**"
   ]
  },
  {
   "cell_type": "markdown",
   "metadata": {},
   "source": [
    "## **Promises to the rescue**\n",
    ">_A promise represents the result of an asynchronous operation._\n",
    "\n",
    "A promise is in one of three different states:\n",
    "* pending - The initial state of a promise.\n",
    "* fulfilled - The state of a promise representing a successful operation.\n",
    "* rejected - The state of a promise representing a failed operation.\n",
    "\n",
    "Once a promise is fulfilled or rejected, it is immutable (i.e. it can never change again).\n",
    "\n",
    "**[2]  https://www.promisejs.org/**"
   ]
  },
  {
   "cell_type": "markdown",
   "metadata": {},
   "source": [
    "### _ex. 1) A succesfully resolved Promise_"
   ]
  },
  {
   "cell_type": "code",
   "execution_count": 5,
   "metadata": {
    "collapsed": false
   },
   "outputs": [
    {
     "name": "stdout",
     "output_type": "stream",
     "text": [
      "Ordering...\n"
     ]
    },
    {
     "data": {
      "text/plain": [
       "[Promise] {}"
      ]
     },
     "execution_count": 5,
     "metadata": {},
     "output_type": "execute_result"
    },
    {
     "name": "stdout",
     "output_type": "stream",
     "text": [
      "🍔\n"
     ]
    }
   ],
   "source": [
    "var getHamburger = new Promise((resolve, reject) => {\n",
    "    setTimeout(() => resolve('🍔'), 5000);\n",
    "});\n",
    "\n",
    "console.log('Ordering...')\n",
    "getHamburger.then(result => console.log(result))"
   ]
  },
  {
   "cell_type": "markdown",
   "metadata": {},
   "source": [
    "### _ex. 2) Rejecting a Promise_"
   ]
  },
  {
   "cell_type": "code",
   "execution_count": null,
   "metadata": {
    "collapsed": false
   },
   "outputs": [],
   "source": [
    "var getHamburgerMaybe = new Promise((resolve, reject) => {\n",
    "    setTimeout(() => reject(\"[OutOfMeatException] Where's the beef?\"), 3000);\n",
    "});\n",
    "\n",
    "getHamburgerMaybe.catch(error => console.log(error));"
   ]
  },
  {
   "cell_type": "markdown",
   "metadata": {
    "collapsed": true
   },
   "source": [
    "### _ex. 3) More advanced Promise examples_"
   ]
  },
  {
   "cell_type": "markdown",
   "metadata": {},
   "source": [
    "#### _A one-off HTTP request..._"
   ]
  },
  {
   "cell_type": "code",
   "execution_count": 2,
   "metadata": {
    "collapsed": false
   },
   "outputs": [
    {
     "data": {
      "text/plain": [
       "[Promise] {}"
      ]
     },
     "execution_count": 2,
     "metadata": {},
     "output_type": "execute_result"
    },
    {
     "name": "stdout",
     "output_type": "stream",
     "text": [
      "{\"count\":11}\n"
     ]
    }
   ],
   "source": [
    "var fetch = require('node-fetch');\n",
    "\n",
    "fetch('http://localhost:3000/count')\n",
    "    .then(res => res.json())\n",
    "    .then(json => console.log(json))\n",
    "    .catch(error => console.log(error))"
   ]
  },
  {
   "cell_type": "markdown",
   "metadata": {},
   "source": [
    "#### _Building up a chain of requests and executing them in series..._"
   ]
  },
  {
   "cell_type": "code",
   "execution_count": null,
   "metadata": {
    "collapsed": false
   },
   "outputs": [],
   "source": [
    "var fetch = require('node-fetch');\n",
    "\n",
    "/**\n",
    " * this function accepts a number, requests a new number, and (eventually) returns their sum\n",
    " */\n",
    "var fetchThenAdd = (previousResult) => {\n",
    "    return fetch('http://localhost:3000/count')      // fetch a number\n",
    "        .then(res => {\n",
    "            console.log('recieved a number!');       // rejoice!\n",
    "            return res.json();                       // parse the response json\n",
    "        })\n",
    "        .then(json => json.count + previousResult);  // add to previous response\n",
    "};\n",
    "\n",
    "// sequential fetches\n",
    "var sequentialRequests = [\n",
    "    fetchThenAdd,\n",
    "    fetchThenAdd,\n",
    "    fetchThenAdd\n",
    "];\n",
    "\n",
    "// create the promise chain\n",
    "var sequence = sequentialRequests.reduce((prev, curr, index) => {\n",
    "    console.log(`chaining request ${index + 1}`);\n",
    "    return prev.then(curr);\n",
    "}, Promise.resolve(0)); // seed it with an initial value\n",
    "\n",
    "// await the result\n",
    "sequence\n",
    "    .then(finalResult => console.log('the sum is', finalResult))\n",
    "    .catch(error => console.log('the error was', error));"
   ]
  },
  {
   "cell_type": "markdown",
   "metadata": {},
   "source": [
    "#### _Sending off a batch of requests in parallel..._"
   ]
  },
  {
   "cell_type": "code",
   "execution_count": 20,
   "metadata": {
    "collapsed": false
   },
   "outputs": [
    {
     "data": {
      "text/plain": [
       "[Promise] {}"
      ]
     },
     "execution_count": 20,
     "metadata": {},
     "output_type": "execute_result"
    },
    {
     "name": "stdout",
     "output_type": "stream",
     "text": [
      "recieved a number!\n",
      "recieved a number!\n",
      "recieved a number!\n",
      "all done, the responses were [Array] [1,2,3]\n",
      "the sum is 6\n"
     ]
    }
   ],
   "source": [
    "var fetch = require('node-fetch');\n",
    "\n",
    "var fetchNumber = () => {\n",
    "    return fetch('http://localhost:3000/count')\n",
    "        .then(res => {\n",
    "            console.log('recieved a number!');\n",
    "            return res.json();\n",
    "        })\n",
    "        .then(json => json.count)\n",
    "}\n",
    "\n",
    "var parallelRequests = [\n",
    "  fetchNumber,\n",
    "  fetchNumber,\n",
    "  fetchNumber\n",
    "];\n",
    "\n",
    "// create the batch of promises\n",
    "var batch = Promise.all(parallelRequests.map(p => p()));\n",
    "\n",
    "// await the result\n",
    "batch\n",
    "    .then(responses => {\n",
    "        let theSum = responses.reduce((prev, curr) => prev + curr, 0);\n",
    "        console.log('all done, the responses were', responses);\n",
    "        console.log('the sum is', theSum);\n",
    "    })\n",
    "    .catch(err => console.log(err));"
   ]
  },
  {
   "cell_type": "markdown",
   "metadata": {},
   "source": [
    "## Generators - how do they work?"
   ]
  },
  {
   "cell_type": "markdown",
   "metadata": {},
   "source": [
    "> You can think of generators as processes (pieces of code) that you can pause and resume.\n",
    "\n",
    "Generators can play three roles:\n",
    "* Iterators (data producers) - Each yield can return a value via next(), which means that generators can produce sequences of values via loops and recursion. Due to generator objects implementing the interface Iterable, these sequences can be processed by any ES6 construct that supports iterables. Two examples are: for-of loops and the spread operator (...)\n",
    "\n",
    "\n",
    "* Observers (data consumers): yield can also receive a value from next() (via a parameter). That means that generators become data consumers that pause until a new value is pushed into them via next().\n",
    "\n",
    "\n",
    "* Coroutines (data producers and consumers)\n",
    "\n",
    "What generators do not do is give us a way of representing the result of an asynchronous operation. For that, we need a promise.\n",
    "\n",
    "**[3] http://exploringjs.com/es6/ch_generators.html**"
   ]
  },
  {
   "cell_type": "markdown",
   "metadata": {},
   "source": [
    "### _ex. 4) A simple generator funciton_"
   ]
  },
  {
   "cell_type": "code",
   "execution_count": 2,
   "metadata": {
    "collapsed": false
   },
   "outputs": [
    {
     "name": "stdout",
     "output_type": "stream",
     "text": [
      "initialized fibonacci generator for sequence length 10\n",
      "{\"value\":1,\"done\":false}\n",
      "{\"value\":1,\"done\":false}\n",
      "{\"value\":2,\"done\":false}\n",
      "{\"value\":3,\"done\":false}\n",
      "{\"value\":5,\"done\":false}\n"
     ]
    }
   ],
   "source": [
    "/**\n",
    " * this is a generator function definition,\n",
    " * it can be paused / resumed while maintaining state internally\n",
    " */\n",
    "var fibonacciGenerator = function* fibonacciGenerator(limit = 10) {\n",
    "  console.log('initialized fibonacci generator for sequence length', limit);\n",
    "    \n",
    "  let i = 0;\n",
    "  let prev1 = 0;\n",
    "  let prev2 = 1;\n",
    "  \n",
    "  while (i++ < limit) {\n",
    "   let curr = prev1 + prev2;\n",
    "   prev1 = prev2;\n",
    "   prev2 = curr;\n",
    "      \n",
    "   yield prev1;\n",
    "  }\n",
    "}\n",
    "\n",
    "// get an interator instance for the generator\n",
    "var myFib10 = fibonacciGenerator(10);\n",
    "\n",
    "// move the generator forward manually\n",
    "console.log(myFib10.next());\n",
    "console.log(myFib10.next());\n",
    "console.log(myFib10.next());\n",
    "console.log(myFib10.next());\n",
    "console.log(myFib10.next());"
   ]
  },
  {
   "cell_type": "code",
   "execution_count": 3,
   "metadata": {
    "collapsed": false
   },
   "outputs": [
    {
     "name": "stdout",
     "output_type": "stream",
     "text": [
      "8\n",
      "13\n",
      "21\n",
      "34\n",
      "55\n"
     ]
    }
   ],
   "source": [
    "// run the remainder of the generator to completion\n",
    "for (let i of myFib10) {\n",
    "    console.log(i);\n",
    "}"
   ]
  },
  {
   "cell_type": "code",
   "execution_count": 4,
   "metadata": {
    "collapsed": false
   },
   "outputs": [
    {
     "name": "stdout",
     "output_type": "stream",
     "text": [
      "initialized fibonacci generator for sequence length 20\n",
      "[Array] [1,1,2,3,5,8,13,21,34,55,89,144,233,377,610,987,1597,2584,4181,6765]\n"
     ]
    },
    {
     "data": {
      "text/plain": [
       "{\"done\":true}"
      ]
     },
     "execution_count": 4,
     "metadata": {},
     "output_type": "execute_result"
    }
   ],
   "source": [
    "// additional machinery for consuming generators\n",
    "var myFib20 = fibonacciGenerator(20);\n",
    "console.log([...myFib20]);\n",
    "\n",
    "// the iterator is now exhausted\n",
    "myFib20.next();"
   ]
  },
  {
   "cell_type": "markdown",
   "metadata": {},
   "source": [
    "## Working together, creating coroutines with Promises and Generators"
   ]
  },
  {
   "cell_type": "markdown",
   "metadata": {},
   "source": [
    "* Promises give us a way to represent asynchronous operations\n",
    "* Generators give us a mechanism for (lazily!) operating on streams of data\n",
    "* Generators can play the role of producer AND consumer\n",
    "\n",
    "Can we yield a promise, and await it's eventual response?\n",
    "Yes! ...but not without some external machinery.\n",
    "\n",
    "**[4] https://www.promisejs.org/generators/**"
   ]
  },
  {
   "cell_type": "markdown",
   "metadata": {},
   "source": [
    "### _ex. 5) The road to async/await_"
   ]
  },
  {
   "cell_type": "code",
   "execution_count": 4,
   "metadata": {
    "collapsed": true
   },
   "outputs": [],
   "source": [
    "// return a wrapper function that automatically moves the state machine forward\n",
    "var makeAsync = function makeAsync(generator) {\n",
    "    return () => {\n",
    "        var iterator = generator.apply(this, arguments);\n",
    "\n",
    "        // this function consumes the iterator recursively\n",
    "        function handle(result) {\n",
    "            // base case: the iterator is empty (complete)\n",
    "            if (result.done) {\n",
    "              return Promise.resolve(result.value);\n",
    "            }\n",
    "\n",
    "            return Promise.resolve(result.value)\n",
    "                // attempt to access the generator's .next() value...\n",
    "                // if no error, progress the generator by providing a value to the preceeding yield\n",
    "                .then(res => handle(iterator.next(res)))\n",
    "                \n",
    "                // in the event of an error, throw the exception back into the generator\n",
    "                .catch(err => handle(iterator.throw(err)));\n",
    "        }\n",
    "\n",
    "        try {\n",
    "            return handle(iterator.next());\n",
    "        } catch (ex) {\n",
    "            return Promise.reject(ex);\n",
    "        }\n",
    "    }\n",
    "}"
   ]
  },
  {
   "cell_type": "code",
   "execution_count": 15,
   "metadata": {
    "collapsed": false
   },
   "outputs": [
    {
     "data": {
      "text/plain": [
       "[Promise] {}"
      ]
     },
     "execution_count": 15,
     "metadata": {},
     "output_type": "execute_result"
    },
    {
     "name": "stdout",
     "output_type": "stream",
     "text": [
      "recieved a number!\n",
      "recieved a number!\n",
      "recieved a number!\n",
      "the sum is 84\n"
     ]
    }
   ],
   "source": [
    "var fetch = require('node-fetch');\n",
    "\n",
    "// asynchronous number fetcher\n",
    "var fetchNumber = () => {\n",
    "    return fetch('http://localhost:3000/count')\n",
    "        .then(res => {\n",
    "            console.log('recieved a number!');\n",
    "            return res.json();\n",
    "        })\n",
    "        .then(json => json.count)\n",
    "}\n",
    "\n",
    "// look how synchronous it looks!\n",
    "var sumOf3 = function* () {\n",
    "    const number1 = yield fetchNumber();\n",
    "    const number2 = yield fetchNumber();\n",
    "    const number3 = yield fetchNumber();\n",
    "    \n",
    "    return number1 + number2 + number3;\n",
    "}\n",
    "\n",
    "var asyncFn = makeAsync(sumOf3);\n",
    "\n",
    "// note that async functions still return a promise\n",
    "asyncFn()\n",
    "    .then(sum => console.log('the sum is', sum))\n",
    "    .catch(err => console.log('the error was', err));\n"
   ]
  },
  {
   "cell_type": "markdown",
   "metadata": {},
   "source": [
    "## What will it look like in ES7?\n",
    "Very similar. We'll lose the polyfill (wrapper function), and gain a new syntax:"
   ]
  },
  {
   "cell_type": "code",
   "execution_count": 14,
   "metadata": {
    "collapsed": false
   },
   "outputs": [
    {
     "ename": "Javascript Error",
     "evalue": "Unexpected token function",
     "output_type": "error",
     "traceback": [
      "SyntaxError: Unexpected token function"
     ]
    }
   ],
   "source": [
    "// this cell won't yet run without Babel :)\n",
    "async function sumOf3() {\n",
    "    try {\n",
    "        const number1 = await fetchNumber();\n",
    "        const number2 = await fetchNumber();\n",
    "        const number3 = await fetchNumber();\n",
    "\n",
    "        return number1 + number2 + number3;\n",
    "    } catch (err) {\n",
    "        console.log('the error was', err)\n",
    "    }\n",
    "}\n",
    "\n",
    "sumOf3().then(sum => console.log(sum))"
   ]
  },
  {
   "cell_type": "markdown",
   "metadata": {},
   "source": [
    "# Thanks for listening!!\n",
    "![tehm3m3](https://alexperry.io/images/posts/generators/meme2.jpg)"
   ]
  }
 ],
 "metadata": {
  "kernelspec": {
   "display_name": "NodeJS",
   "language": "javascript",
   "name": "nodejs"
  },
  "language_info": {
   "codemirror_mode": "javascript",
   "file_extension": ".js",
   "mimetype": "text/javascript",
   "name": "nodejs",
   "pygments_lexer": "javascript",
   "version": "0.10"
  }
 },
 "nbformat": 4,
 "nbformat_minor": 2
}
